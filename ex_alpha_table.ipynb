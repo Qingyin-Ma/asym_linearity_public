{
 "cells": [
  {
   "cell_type": "markdown",
   "id": "imported-import",
   "metadata": {},
   "source": [
    "## Experiments with $\\alpha$-values \n",
    "\n",
    "This file explores how the $\\alpha$-parameter (in the initial guess) affects computation speed.\n",
    "\n",
    "We fix `grid_max=1e6` based on the numerical experiments in `ex_grid_max.ipynb`.\n",
    "\n",
    "For each specification, the statistics are calculated by averaging $N$ repeated experiments.\n",
    "\n",
    "#### Parallel Computing\n",
    "\n",
    "The code has been parallelized, so it runs very fast, and the time taken is relatively less sensitive to the grid size of asset/saving. "
   ]
  },
  {
   "cell_type": "code",
   "execution_count": 1,
   "id": "furnished-wrapping",
   "metadata": {},
   "outputs": [],
   "source": [
    "run optimality"
   ]
  },
  {
   "cell_type": "code",
   "execution_count": 6,
   "id": "affiliated-reservation",
   "metadata": {},
   "outputs": [],
   "source": [
    "tol = 1e-5                    # tolerance level to terminate time iteration\n",
    "grid_max, grid_med = 1e6, 10  # maximum and median grid points for saving\n",
    "α_space = np.array([0, 0.001, 0.01, 0.1, 0.2, 0.5, 1])"
   ]
  },
  {
   "cell_type": "markdown",
   "id": "multiple-inspection",
   "metadata": {},
   "source": [
    "#### Case 1. $G = 50$"
   ]
  },
  {
   "cell_type": "code",
   "execution_count": 7,
   "id": "shaped-president",
   "metadata": {},
   "outputs": [],
   "source": [
    "grid_sizes = 50*np.ones(100).astype('int')  # number of grid points for asset/saving, int64[:]\n",
    "\n",
    "step_conv_lg, time_elap_lg = speed_conv(α_space, grid_sizes,\n",
    "                                        grid_max, grid_med,\n",
    "                                        tol=tol, verbose=False)\n",
    "mean_step = step_conv_lg.mean(axis=1)\n",
    "mean_time = time_elap_lg.mean(axis=1)"
   ]
  },
  {
   "cell_type": "code",
   "execution_count": 8,
   "id": "offensive-tourist",
   "metadata": {},
   "outputs": [
    {
     "data": {
      "text/plain": [
       "array([ 958., 1278., 1630., 1707., 1712., 1715., 1716.])"
      ]
     },
     "execution_count": 8,
     "metadata": {},
     "output_type": "execute_result"
    }
   ],
   "source": [
    "mean_step"
   ]
  },
  {
   "cell_type": "code",
   "execution_count": 9,
   "id": "approved-classification",
   "metadata": {},
   "outputs": [
    {
     "data": {
      "text/plain": [
       "array([0.42181567, 0.53547473, 0.7172873 , 0.65731947, 0.70936376,\n",
       "       0.7669671 , 0.70174293])"
      ]
     },
     "execution_count": 9,
     "metadata": {},
     "output_type": "execute_result"
    }
   ],
   "source": [
    "mean_time"
   ]
  },
  {
   "cell_type": "markdown",
   "id": "negative-vaccine",
   "metadata": {},
   "source": [
    "#### Case 2. $G = 100$"
   ]
  },
  {
   "cell_type": "code",
   "execution_count": 11,
   "id": "dated-contrary",
   "metadata": {},
   "outputs": [],
   "source": [
    "grid_sizes = 100*np.ones(100).astype('int')  # number of grid points for asset/saving, int64[:]\n",
    "\n",
    "step_conv_mg, time_elap_mg = speed_conv(α_space, grid_sizes,\n",
    "                                        grid_max, grid_med,\n",
    "                                        tol=tol, verbose=False)\n",
    "mean_step = step_conv_mg.mean(axis=1)\n",
    "mean_time = time_elap_mg.mean(axis=1) "
   ]
  },
  {
   "cell_type": "code",
   "execution_count": 12,
   "id": "coastal-passenger",
   "metadata": {},
   "outputs": [
    {
     "data": {
      "text/plain": [
       "array([1100., 1276., 1628., 1705., 1710., 1713., 1714.])"
      ]
     },
     "execution_count": 12,
     "metadata": {},
     "output_type": "execute_result"
    }
   ],
   "source": [
    "mean_step"
   ]
  },
  {
   "cell_type": "code",
   "execution_count": 13,
   "id": "nominated-handy",
   "metadata": {},
   "outputs": [
    {
     "data": {
      "text/plain": [
       "array([0.41505906, 0.47941026, 0.61484263, 0.64757539, 0.64411688,\n",
       "       0.65225787, 0.6387037 ])"
      ]
     },
     "execution_count": 13,
     "metadata": {},
     "output_type": "execute_result"
    }
   ],
   "source": [
    "mean_time"
   ]
  },
  {
   "cell_type": "markdown",
   "id": "respected-species",
   "metadata": {},
   "source": [
    "#### Case 3. $G = 1000$"
   ]
  },
  {
   "cell_type": "code",
   "execution_count": 14,
   "id": "joined-attribute",
   "metadata": {},
   "outputs": [],
   "source": [
    "grid_sizes = 1000*np.ones(100).astype('int')  # number of grid points for asset/saving, int64[:]\n",
    "\n",
    "step_conv_hg, time_elap_hg = speed_conv(α_space, grid_sizes,\n",
    "                                        grid_max, grid_med,\n",
    "                                        tol=tol, verbose=False)\n",
    "mean_step = step_conv_hg.mean(axis=1)\n",
    "mean_time = time_elap_hg.mean(axis=1) "
   ]
  },
  {
   "cell_type": "code",
   "execution_count": 15,
   "id": "instructional-capitol",
   "metadata": {},
   "outputs": [
    {
     "data": {
      "text/plain": [
       "array([1286., 1275., 1627., 1703., 1708., 1711., 1712.])"
      ]
     },
     "execution_count": 15,
     "metadata": {},
     "output_type": "execute_result"
    }
   ],
   "source": [
    "mean_step"
   ]
  },
  {
   "cell_type": "code",
   "execution_count": 16,
   "id": "political-cooper",
   "metadata": {},
   "outputs": [
    {
     "data": {
      "text/plain": [
       "array([2.18006404, 2.19210033, 2.74057086, 2.89985461, 3.00445076,\n",
       "       2.99493212, 2.96157764])"
      ]
     },
     "execution_count": 16,
     "metadata": {},
     "output_type": "execute_result"
    }
   ],
   "source": [
    "mean_time"
   ]
  },
  {
   "cell_type": "code",
   "execution_count": 19,
   "id": "structural-commons",
   "metadata": {},
   "outputs": [],
   "source": [
    "# np.savez('simulated data/ex_alpha_table.dat', \n",
    "#         step_conv_lg=step_conv_lg, time_elap_lg=time_elap_lg,\n",
    "#         step_conv_mg=step_conv_mg, time_elap_mg=time_elap_mg,\n",
    "#         step_conv_hg=step_conv_hg, time_elap_hg=time_elap_hg)"
   ]
  },
  {
   "cell_type": "code",
   "execution_count": 21,
   "id": "respiratory-tablet",
   "metadata": {},
   "outputs": [],
   "source": [
    "# dat = np.load('simulated data/ex_alpha_table_50avg.dat.npz')"
   ]
  },
  {
   "cell_type": "code",
   "execution_count": null,
   "id": "dependent-roots",
   "metadata": {},
   "outputs": [],
   "source": [
    "# dat = np.load('simulated data/ex_alpha_table.dat.npz')"
   ]
  },
  {
   "cell_type": "code",
   "execution_count": 4,
   "id": "voluntary-compilation",
   "metadata": {},
   "outputs": [],
   "source": [
    "# dat['step_conv'].mean(axis=1)\n",
    "# dat['time_elap'].mean(axis=1)"
   ]
  },
  {
   "cell_type": "code",
   "execution_count": null,
   "id": "pointed-playing",
   "metadata": {},
   "outputs": [],
   "source": []
  }
 ],
 "metadata": {
  "kernelspec": {
   "display_name": "Python 3",
   "language": "python",
   "name": "python3"
  },
  "language_info": {
   "codemirror_mode": {
    "name": "ipython",
    "version": 3
   },
   "file_extension": ".py",
   "mimetype": "text/x-python",
   "name": "python",
   "nbconvert_exporter": "python",
   "pygments_lexer": "ipython3",
   "version": "3.6.13"
  }
 },
 "nbformat": 4,
 "nbformat_minor": 5
}
