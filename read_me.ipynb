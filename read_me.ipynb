{
 "cells": [
  {
   "cell_type": "markdown",
   "id": "connected-vector",
   "metadata": {},
   "source": [
    "### Coding for \"Asymptotic Linearity of Consumption Functions and Computational Efficiency\"\n",
    "\n",
    "#### by Qingyin Ma and Alexis Akira Toda\n",
    "\n",
    "$ $\n",
    "\n",
    "We use the endogenous grid method of `Carroll (2006)` to solve the following income fluctuation problem.\n",
    "\n",
    "#### Model Specification\n",
    "\n",
    "The exogenous state $Z_t \\in \\{1,2\\}$, and the income process\n",
    "\n",
    "$$Y_t = Y(Z_t) e^{gt}.$$\n",
    "\n",
    "The return process \n",
    "\n",
    "$$R (Z_{t-1}, Z_t, \\zeta_t) = \\theta R_f \\, \\text{exp}\\left[\\mu(Z_t) + \\sigma(Z_t) \\zeta_t \\right] + (1-\\theta) R_f.$$\n",
    "\n",
    "After transformation, we get\n",
    "\n",
    "$$\\tilde \\beta = \\beta e^{(1-\\gamma)g}, \\quad \n",
    "  \\tilde R_t = R(Z_{t-1}, Z_t, \\zeta_t) e^{-g} \n",
    "  \\quad \\text{and} \\quad\n",
    "  \\tilde Y_t = Y_t e^{-g t} = Y(Z_t).\n",
    "$$"
   ]
  },
  {
   "cell_type": "markdown",
   "id": "danish-purpose",
   "metadata": {},
   "source": [
    "### Functionality of different files:\n",
    "\n",
    "`optimality.py` : the key optimality package.\n",
    "\n",
    "`x_star.ipynb` : plots $x^*(z)$ as a function of length of one period $\\Delta$.\n",
    "\n",
    "- To replicate Figure 1 in the paper.\n",
    "\n",
    "`prelim_results.ipynb` : some preliminary simulation results.\n",
    "\n",
    "- To replicate Figures 2-3 in the paper.\n",
    "\n",
    "`ex_grid_max.ipynb` : inspects how the maximum grid point for saving $\\bar s$ affects computation accuracy.\n",
    "\n",
    "- Plots the error of $c(a,z;\\bar s)$ relative to $c(a,z)$ as a function of $\\bar s$.\n",
    "\n",
    "- To replicate Figure 4 in the paper.\n",
    "\n",
    "`ex_alpha_plot.ipynb` : explores how the $\\alpha$-parameter in the initial guess affects computation speed.\n",
    "\n",
    "- For each specification, the statistics are calculated by averaging $N$ repeated experiments.\n",
    "\n",
    "- To replicate Figure 5 in the paper.\n",
    "\n",
    "`ex_alpha_table.ipynb` : explores how the $\\alpha$-parameter in the initial guess affects computation speed.\n",
    "\n",
    "- For each specification, the statistics are calculated by averaging $N$ repeated experiments.\n",
    "\n",
    "- To replicate Table 1 in the paper.\n",
    "\n"
   ]
  },
  {
   "cell_type": "code",
   "execution_count": null,
   "id": "continuing-merchandise",
   "metadata": {},
   "outputs": [],
   "source": []
  }
 ],
 "metadata": {
  "kernelspec": {
   "display_name": "Python 3",
   "language": "python",
   "name": "python3"
  },
  "language_info": {
   "codemirror_mode": {
    "name": "ipython",
    "version": 3
   },
   "file_extension": ".py",
   "mimetype": "text/x-python",
   "name": "python",
   "nbconvert_exporter": "python",
   "pygments_lexer": "ipython3",
   "version": "3.6.13"
  }
 },
 "nbformat": 4,
 "nbformat_minor": 5
}
