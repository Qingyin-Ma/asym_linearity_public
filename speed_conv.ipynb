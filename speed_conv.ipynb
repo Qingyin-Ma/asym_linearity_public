{
 "cells": [
  {
   "cell_type": "markdown",
   "id": "imported-import",
   "metadata": {},
   "source": [
    "## Computation speed\n",
    "\n",
    "This file calculates and compares (under different parameterization):\n",
    "\n",
    "- The time taken to solve for the optimal consumption function.\n",
    "\n",
    "- The number of steps for the time iteration algorithm to terminate."
   ]
  },
  {
   "cell_type": "code",
   "execution_count": 1,
   "id": "furnished-wrapping",
   "metadata": {},
   "outputs": [],
   "source": [
    "run optimality"
   ]
  },
  {
   "cell_type": "code",
   "execution_count": 2,
   "id": "defined-contribution",
   "metadata": {},
   "outputs": [],
   "source": [
    "tol = 1e-5                            # tolerance level to terminate time iteration\n",
    "grid_med = 10                         # median grid point for saving\n",
    "sizes = [10, 20, 100, 1000]           # number of grid points for asset/saving\n",
    "αs = [1., 0.1, 0.01, 0.001, 0.]       # parameter that controls the initial guess"
   ]
  },
  {
   "cell_type": "markdown",
   "id": "representative-certificate",
   "metadata": {},
   "source": [
    "### Parallel Computing\n",
    "\n",
    "The code has been parallelized, so it runs very fast, and the time taken is relatively less sensitive to the grid size of asset/saving. \n",
    "\n",
    "#### Case 1. `grid_max = 30`"
   ]
  },
  {
   "cell_type": "code",
   "execution_count": 3,
   "id": "extensive-sight",
   "metadata": {},
   "outputs": [
    {
     "name": "stdout",
     "output_type": "stream",
     "text": [
      "Iterations: \n",
      "[[429. 406. 387. 386.]\n",
      " [423. 401. 382. 381.]\n",
      " [333. 267. 208. 240.]\n",
      " [430. 430. 423. 423.]\n",
      " [454. 449. 438. 438.]]\n",
      "\n",
      "Time Taken: \n",
      "[[5.35629892 0.2186985  0.26094723 0.65563297]\n",
      " [0.09674335 0.2186861  0.33031845 0.63790917]\n",
      " [0.06248498 0.12497067 0.16115522 0.36554837]\n",
      " [0.10064483 0.24725199 0.31103897 0.62398791]\n",
      " [0.1107049  0.27239084 0.31182289 0.6662159 ]]\n"
     ]
    }
   ],
   "source": [
    "step_conv, time_elap = speed_conv(alphas=αs,\n",
    "                                  grid_sizes=sizes, \n",
    "                                  grid_max=30,\n",
    "                                  grid_med=grid_med, tol=tol)"
   ]
  },
  {
   "cell_type": "markdown",
   "id": "returning-smart",
   "metadata": {},
   "source": [
    "#### Case 2. `grid_max = 100`"
   ]
  },
  {
   "cell_type": "code",
   "execution_count": 154,
   "id": "aging-building",
   "metadata": {},
   "outputs": [
    {
     "name": "stdout",
     "output_type": "stream",
     "text": [
      "Iterations: \n",
      "[[688. 639. 566. 556.]\n",
      " [681. 633. 561. 551.]\n",
      " [592. 527. 405. 385.]\n",
      " [636. 643. 616. 608.]\n",
      " [690. 682. 639. 629.]]\n",
      "\n",
      "Time Taken: \n",
      "[[0.24129367 0.43151283 0.37209964 0.84416962]\n",
      " [0.22437453 0.41652346 0.36988235 0.81266522]\n",
      " [0.17427325 0.33171177 0.31805778 0.588727  ]\n",
      " [0.198488   0.41896987 0.37266278 1.04752088]\n",
      " [0.24014473 0.46939588 0.41737175 0.91974902]]\n"
     ]
    }
   ],
   "source": [
    "step_conv, time_elap = speed_conv(alphas=αs,\n",
    "                                  grid_sizes=sizes, \n",
    "                                  grid_max=1e2,\n",
    "                                  grid_med=grid_med, tol=tol)"
   ]
  },
  {
   "cell_type": "markdown",
   "id": "organizational-rings",
   "metadata": {},
   "source": [
    "#### Case 3. `grid_max = 1e6`"
   ]
  },
  {
   "cell_type": "code",
   "execution_count": 5,
   "id": "minute-clearing",
   "metadata": {},
   "outputs": [
    {
     "name": "stdout",
     "output_type": "stream",
     "text": [
      "Iterations: \n",
      "[[1718. 1718. 1714. 1712.]\n",
      " [1710. 1709. 1705. 1703.]\n",
      " [1633. 1632. 1628. 1627.]\n",
      " [1283. 1282. 1277. 1275.]\n",
      " [ 443.  685. 1082. 1270.]]\n",
      "\n",
      "Time Taken: \n",
      "[[0.98676825 1.41838169 0.86265182 2.42933083]\n",
      " [0.96739149 1.33538318 0.77449369 2.37446356]\n",
      " [0.89041734 1.41470814 0.7810657  2.35349274]\n",
      " [0.62107038 1.02600598 0.61266661 1.81687093]\n",
      " [0.10107851 0.39053297 0.54398251 1.81392646]]\n"
     ]
    }
   ],
   "source": [
    "step_conv, time_elap = speed_conv(alphas=αs,\n",
    "                                  grid_sizes=sizes, \n",
    "                                  grid_max=1e6,\n",
    "                                  grid_med=grid_med, tol=tol)"
   ]
  },
  {
   "cell_type": "markdown",
   "id": "central-variable",
   "metadata": {},
   "source": [
    "#### Case 4. `grid_max = 1e10`"
   ]
  },
  {
   "cell_type": "code",
   "execution_count": 156,
   "id": "static-links",
   "metadata": {
    "scrolled": false
   },
   "outputs": [
    {
     "name": "stdout",
     "output_type": "stream",
     "text": [
      "Iterations: \n",
      "[[1719. 1719. 1719. 1719.]\n",
      " [1710. 1710. 1710. 1710.]\n",
      " [1634. 1634. 1634. 1634.]\n",
      " [1284. 1284. 1284. 1284.]\n",
      " [ 395.  500.  966. 1257.]]\n",
      "\n",
      "Time Taken: \n",
      "[[1.13667464 1.56010437 0.83148384 2.82861495]\n",
      " [1.04013944 1.42790675 0.8257966  2.90922523]\n",
      " [0.98675251 1.36441922 0.8023119  2.74960852]\n",
      " [0.66533709 1.12874579 0.73687148 2.18378663]\n",
      " [0.10830212 0.32403302 0.5214119  2.12963939]]\n"
     ]
    }
   ],
   "source": [
    "step_conv, time_elap = speed_conv(alphas=αs,\n",
    "                                  grid_sizes=sizes, \n",
    "                                  grid_max=1e10,\n",
    "                                  grid_med=grid_med, tol=tol)"
   ]
  },
  {
   "cell_type": "markdown",
   "id": "awful-single",
   "metadata": {},
   "source": [
    "$ $\n",
    "\n",
    "### Non-Parallel Computing (still using Numba)\n",
    "\n",
    "We are still using `Numba`. However, we no longer parallelize the `for loops`.\n",
    "\n",
    "In particular, we set `parallel=False` in the `T` function."
   ]
  },
  {
   "cell_type": "code",
   "execution_count": 8,
   "id": "joined-canal",
   "metadata": {},
   "outputs": [],
   "source": [
    "run optimality"
   ]
  },
  {
   "cell_type": "markdown",
   "id": "leading-excitement",
   "metadata": {},
   "source": [
    "#### Case 1. `grid_max = 30`"
   ]
  },
  {
   "cell_type": "code",
   "execution_count": 9,
   "id": "addressed-trade",
   "metadata": {},
   "outputs": [
    {
     "name": "stdout",
     "output_type": "stream",
     "text": [
      "Iterations: \n",
      "[[429. 406. 387. 386.]\n",
      " [423. 401. 382. 381.]\n",
      " [333. 267. 208. 240.]\n",
      " [430. 430. 423. 423.]\n",
      " [454. 449. 438. 438.]]\n",
      "\n",
      "Time Taken: \n",
      "[[1.93518138 0.04686308 0.16219425 1.55413342]\n",
      " [0.03127384 0.03121138 0.15620995 1.55368876]\n",
      " [0.01562285 0.01565576 0.09369349 0.97636151]\n",
      " [0.03127337 0.04193377 0.18650103 1.72094154]\n",
      " [0.03124309 0.04201937 0.19818473 1.87505722]]\n"
     ]
    }
   ],
   "source": [
    "step_conv, time_elap = speed_conv(alphas=αs,\n",
    "                                  grid_sizes=sizes, \n",
    "                                  grid_max=30,\n",
    "                                  grid_med=grid_med, tol=tol)"
   ]
  },
  {
   "cell_type": "markdown",
   "id": "civil-collection",
   "metadata": {},
   "source": [
    "#### Case 2. `grid_max = 100`"
   ]
  },
  {
   "cell_type": "code",
   "execution_count": 10,
   "id": "mounted-addition",
   "metadata": {},
   "outputs": [
    {
     "name": "stdout",
     "output_type": "stream",
     "text": [
      "Iterations: \n",
      "[[688. 639. 566. 556.]\n",
      " [681. 633. 561. 551.]\n",
      " [592. 527. 405. 385.]\n",
      " [636. 643. 616. 608.]\n",
      " [690. 682. 639. 629.]]\n",
      "\n",
      "Time Taken: \n",
      "[[0.57811809 0.06582141 0.20930147 2.31552291]\n",
      " [0.02747035 0.07426572 0.29694104 2.21379042]\n",
      " [0.03124285 0.04686427 0.15621424 1.53429985]\n",
      " [0.03124237 0.06248522 0.24997663 2.37443662]\n",
      " [0.03120899 0.06252027 0.24990559 2.48378801]]\n"
     ]
    }
   ],
   "source": [
    "step_conv, time_elap = speed_conv(alphas=αs,\n",
    "                                  grid_sizes=sizes, \n",
    "                                  grid_max=1e2,\n",
    "                                  grid_med=grid_med, tol=tol)"
   ]
  },
  {
   "cell_type": "markdown",
   "id": "formed-australian",
   "metadata": {},
   "source": [
    "#### Case 3. `grid_max = 1e6`"
   ]
  },
  {
   "cell_type": "code",
   "execution_count": 11,
   "id": "burning-horror",
   "metadata": {},
   "outputs": [
    {
     "name": "stdout",
     "output_type": "stream",
     "text": [
      "Iterations: \n",
      "[[1718. 1718. 1714. 1712.]\n",
      " [1710. 1709. 1705. 1703.]\n",
      " [1633. 1632. 1628. 1627.]\n",
      " [1283. 1282. 1277. 1275.]\n",
      " [ 443.  685. 1082. 1270.]]\n",
      "\n",
      "Time Taken: \n",
      "[[0.10418868 0.15227246 0.67171788 6.58188248]\n",
      " [0.09376311 0.15617847 0.67171621 6.67164636]\n",
      " [0.0780673  0.14059162 0.65609384 6.32311678]\n",
      " [0.06248498 0.10934949 0.49991989 4.93424106]\n",
      " [0.02792621 0.06881499 0.42104769 4.92956233]]\n"
     ]
    }
   ],
   "source": [
    "step_conv, time_elap = speed_conv(alphas=αs,\n",
    "                                  grid_sizes=sizes, \n",
    "                                  grid_max=1e6,\n",
    "                                  grid_med=grid_med, tol=tol)"
   ]
  },
  {
   "cell_type": "markdown",
   "id": "tender-magnet",
   "metadata": {},
   "source": [
    "#### Case 4. `grid_max = 1e10`"
   ]
  },
  {
   "cell_type": "code",
   "execution_count": 12,
   "id": "young-actress",
   "metadata": {
    "scrolled": false
   },
   "outputs": [
    {
     "name": "stdout",
     "output_type": "stream",
     "text": [
      "Iterations: \n",
      "[[1719. 1719. 1719. 1719.]\n",
      " [1710. 1710. 1710. 1710.]\n",
      " [1634. 1634. 1634. 1634.]\n",
      " [1284. 1284. 1284. 1284.]\n",
      " [ 395.  500.  966. 1257.]]\n",
      "\n",
      "Time Taken: \n",
      "[[0.12635064 0.15306807 0.92392635 6.59839606]\n",
      " [0.0759089  0.17521906 0.66881585 6.58568573]\n",
      " [0.07810593 0.14062834 0.65605807 6.2035923 ]\n",
      " [0.07814169 0.10931516 0.48425889 4.95195699]\n",
      " [0.01562023 0.04689932 0.37487578 4.79577374]]\n"
     ]
    }
   ],
   "source": [
    "step_conv, time_elap = speed_conv(alphas=αs,\n",
    "                                  grid_sizes=sizes, \n",
    "                                  grid_max=1e10,\n",
    "                                  grid_med=grid_med, tol=tol)"
   ]
  },
  {
   "cell_type": "code",
   "execution_count": null,
   "id": "religious-columbia",
   "metadata": {},
   "outputs": [],
   "source": []
  }
 ],
 "metadata": {
  "kernelspec": {
   "display_name": "Python 3",
   "language": "python",
   "name": "python3"
  },
  "language_info": {
   "codemirror_mode": {
    "name": "ipython",
    "version": 3
   },
   "file_extension": ".py",
   "mimetype": "text/x-python",
   "name": "python",
   "nbconvert_exporter": "python",
   "pygments_lexer": "ipython3",
   "version": "3.6.13"
  }
 },
 "nbformat": 4,
 "nbformat_minor": 5
}
